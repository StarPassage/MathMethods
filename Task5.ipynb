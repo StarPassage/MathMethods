{
 "cells": [
  {
   "cell_type": "markdown",
   "id": "4dcb637c",
   "metadata": {},
   "source": [
    "Задание 5. Линейное программирование. Графический метод<br>Вариант 15"
   ]
  },
  {
   "cell_type": "code",
   "execution_count": 1,
   "id": "aa546e2c",
   "metadata": {},
   "outputs": [],
   "source": [
    "import numpy as np\n",
    "from scipy.optimize import minimize, LinearConstraint, Bounds\n",
    "import sympy as sym\n",
    "import matplotlib.pyplot as plt"
   ]
  },
  {
   "cell_type": "code",
   "execution_count": 2,
   "id": "85d97cd1",
   "metadata": {},
   "outputs": [
    {
     "name": "stdout",
     "output_type": "stream",
     "text": [
      "Введите числа a, b, c. Число вводить можно как целое, так и в виде дроби (десятичной или обыкновенной)\n",
      "a = 7/4\n",
      "b = 6\n",
      "c = 3\n"
     ]
    }
   ],
   "source": [
    "frac = lambda x: float(x.split('/')[0]) / float(x.split('/')[1]) if '/' in x else float(x)\n",
    "print('Введите числа a, b, c. Число вводить можно как целое, так и в виде дроби (десятичной или обыкновенной)')\n",
    "a = frac(input('a = '))\n",
    "b = frac(input('b = '))\n",
    "c = frac(input('c = '))"
   ]
  },
  {
   "cell_type": "code",
   "execution_count": 3,
   "id": "ddfeb965",
   "metadata": {},
   "outputs": [],
   "source": [
    "def f(xy):\n",
    "    x, y = xy\n",
    "    return -(x + a * y)"
   ]
  },
  {
   "cell_type": "code",
   "execution_count": 4,
   "id": "1562fae8",
   "metadata": {},
   "outputs": [],
   "source": [
    "def gr(xy):\n",
    "    x, y = xy\n",
    "    \n",
    "    der = np.zeros_like(xy)\n",
    "    der[0] = -1\n",
    "    der[1] = -a\n",
    "    \n",
    "    return der"
   ]
  },
  {
   "cell_type": "code",
   "execution_count": 5,
   "id": "afd4dbdd",
   "metadata": {},
   "outputs": [
    {
     "name": "stdout",
     "output_type": "stream",
     "text": [
      "Optimization terminated successfully    (Exit mode 0)\n",
      "            Current function value: -9.249999999998911\n",
      "            Iterations: 6\n",
      "            Function evaluations: 6\n",
      "            Gradient evaluations: 6\n",
      "[4. 3.]\n"
     ]
    }
   ],
   "source": [
    "#Вводим границы, если они есть, если нет, задокументируем\n",
    "\n",
    "# x_min = 0\n",
    "# y_min = 0\n",
    "# x_max = np.inf\n",
    "# y_max = np.inf\n",
    "# bounds = Bounds([x_min, y_min], [x_max, y_max])\n",
    "\n",
    "#Вводим ограничения             [кф.при x,кф.при y] >=  <=\n",
    "linear_constraints = [LinearConstraint([1, 2], -np.inf, 10),\n",
    "                      LinearConstraint([3, 2], -np.inf, 18),\n",
    "                      LinearConstraint([1, -1], -b, np.inf),\n",
    "                      LinearConstraint([c, -1], -np.inf, 8*c + 3)]\n",
    "x0 = np.array([1.0, 1.0])\n",
    "\n",
    "#В данной задаче необходимо максимизировать функцию, сл-но необходимо минимизировать обратную ей (-f). \n",
    "#Для вариантов 21-40 функцию нужно минимизировать, т.е. нужно будет убрать минусы из ф-ий f и gr\n",
    "res = minimize(f, x0, jac=gr, constraints=linear_constraints, options={'disp': True})\n",
    "\n",
    "u = res.x[0]\n",
    "v = res.x[1]\n",
    "F_max = -res.fun\n",
    "print(res.x)"
   ]
  },
  {
   "cell_type": "code",
   "execution_count": 6,
   "id": "0a76175c",
   "metadata": {},
   "outputs": [
    {
     "name": "stdout",
     "output_type": "stream",
     "text": [
      "Оптимальные значения: x = 4.0, y = 3.0\n",
      "Max значение функции: 9.25\n"
     ]
    }
   ],
   "source": [
    "print(f'Оптимальные значения: x = {u.round(3)}, y = {v.round(3)}')\n",
    "print('Max значение функции:',F_max.round(3))"
   ]
  },
  {
   "cell_type": "code",
   "execution_count": 7,
   "id": "5066e175",
   "metadata": {},
   "outputs": [
    {
     "data": {
      "image/png": "[encoded data removed]",
      "text/plain": [
       "<Figure size 432x288 with 1 Axes>"
      ]
     },
     "metadata": {
      "needs_background": "light"
     },
     "output_type": "display_data"
    }
   ],
   "source": [
    "d = np.linspace(-20,20,300)\n",
    "x,y = np.meshgrid(d,d)\n",
    "\n",
    "plt.imshow( ((2*y<=10-x) & (2*y<=18-3*x) & (y<=x+b) & (y>=c*x-8*c-3)).astype(int) , \n",
    "                extent=(x.min(),x.max(),y.min(),y.max()),origin=\"lower\", cmap=\"Greys\", alpha = 0.3);\n",
    "\n",
    "x = np.linspace(-20, 20, 2000)\n",
    "\n",
    "# 2y <= 10 - x\n",
    "y1 = (10-x)/2.0\n",
    "# 2y <= 18 - 3x \n",
    "y2 = (18-3*x)/2.0\n",
    "# y <= x + b\n",
    "y3 = x + b\n",
    "# y >= cx - 8c - 3 \n",
    "y4 = c*x - 8*c - 3\n",
    "\n",
    "#Линии уровня y = F(x, y)/a - x/a\n",
    "y5 = F_max/a - x/a\n",
    "y6 = 4/a - x/a\n",
    "\n",
    "\n",
    "# Рисуем линии\n",
    "plt.plot(x, y1, label=r'$2y\\leq 10-x$')\n",
    "plt.plot(x, y2, label=r'$2y\\leq 18-3x$')\n",
    "plt.plot(x, y3, label=fr'$y\\leq x + {b}$')\n",
    "plt.plot(x, y4, label=fr'$y\\geq {c}(x-8)-3$')\n",
    "\n",
    "plt.plot(x, y5, label=f'F={F_max.round(3)}')\n",
    "plt.plot(x, y6, label='F=4')\n",
    "\n",
    "plt.xlim(-20,20)\n",
    "plt.ylim(-10,10)\n",
    "\n",
    "plt.plot(u, v, 'ko')\n",
    "plt.text(u + 1, v + 1, f'M*({u.round(3)}, {v.round(3)})')\n",
    "\n",
    "plt.legend(bbox_to_anchor=(1.05, 1), loc=2, borderaxespad=0.)\n",
    "plt.xlabel(r'$x$')\n",
    "plt.ylabel(r'$y$')\n",
    "\n",
    "plt.show()"
   ]
  },
  {
   "cell_type": "code",
   "execution_count": null,
   "id": "35af1a1a",
   "metadata": {},
   "outputs": [],
   "source": []
  }
 ],
 "metadata": {
  "kernelspec": {
   "display_name": "Python 3 (ipykernel)",
   "language": "python",
   "name": "python3"
  },
  "language_info": {
   "codemirror_mode": {
    "name": "ipython",
    "version": 3
   },
   "file_extension": ".py",
   "mimetype": "text/x-python",
   "name": "python",
   "nbconvert_exporter": "python",
   "pygments_lexer": "ipython3",
   "version": "3.9.7"
  }
 },
 "nbformat": 4,
 "nbformat_minor": 5
}
