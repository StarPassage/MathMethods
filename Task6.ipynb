{
 "cells": [
  {
   "cell_type": "markdown",
   "id": "2cc9865e",
   "metadata": {},
   "source": [
    "<b>Задание 6. Задача об оптимальном использовании ресурсов</b><br>\n",
    "Для производства трех видов изделий (A, B, C) используются ресурсы типа I и II,<br>\n",
    "причем закупки ресурсов ограничены возможностями поставщиков. Нормы расхода ресурсов и их запасы приведены в таблице.<br>\n",
    "1. Постройте математическую модель задачи.<br>\n",
    "2. Определите такой план производства, при котором стоимость произведенного товара из имеющихся ресурсов является наибольшей.<br>\n",
    "3. Постройте задачу, двойственную к данной.<br>\n",
    "4. Найдите решение двойственной задачи. Поясните смысл двойственных переменных.<br>\n",
    "5. Проверьте результаты вычислений на компьютере."
   ]
  },
  {
   "cell_type": "markdown",
   "id": "06e0e50e",
   "metadata": {},
   "source": [
    "<table>\n",
    "    <thead>\n",
    "        <tr>\n",
    "            <th></th>\n",
    "            <th colspan=\"3\">Изделия</th>\n",
    "            <th></th>\n",
    "        </tr>\n",
    "        <tr>\n",
    "            <th>Ресурсы</th>\n",
    "            <th>A</th>\n",
    "            <th>B</th>\n",
    "            <th>C</th>\n",
    "            <th>Запасы</th>\n",
    "        </tr>\n",
    "    </thead>\n",
    "    <tr>\n",
    "        <th>I</th>\n",
    "        <th>1</th>\n",
    "        <th>3</th>\n",
    "        <th>a</th>\n",
    "        <th>3000</th>\n",
    "    </tr>\n",
    "    <tr>\n",
    "        <th>II</th>\n",
    "        <th>6</th>\n",
    "        <th>5</th>\n",
    "        <th>2</th>\n",
    "        <th>3320</th>\n",
    "    </tr>\n",
    "    <tr>\n",
    "        <th>Цена</th>\n",
    "        <th>6b + 12</th>\n",
    "        <th>5b + 22</th>\n",
    "        <th>c</th>\n",
    "        <th></th>\n",
    "    </tr>\n",
    "    <tr>\n",
    "        <th>План</th>\n",
    "        <th>x1</th>\n",
    "        <th>x2</th>\n",
    "        <th>x3</th>\n",
    "        <th></th>\n",
    "    </tr>\n",
    "<table>"
   ]
  },
  {
   "cell_type": "markdown",
   "id": "f3cccb39",
   "metadata": {},
   "source": [
    "<b>Математическая модель задачи.</b><br>\n",
    "Необходимо максимизировать функцию<br>\n",
    "*F(x1,x2,x3) = (6b + 12)\\*x1 + (5b + 22)\\*x2 + c\\*x3* → max<br>\n",
    "при заданных ограничениях ресурсов:<br>\n",
    "*x1 + 3\\*x2 + a\\*x3 <= 3000*<br>\n",
    "*6\\*x1 + 5\\*x2 + 2\\*x3 <= 3320*<br>\n",
    "*x1, x2, x3 >= 0*"
   ]
  },
  {
   "cell_type": "code",
   "execution_count": 1,
   "id": "9331cd31",
   "metadata": {},
   "outputs": [],
   "source": [
    "import numpy as np\n",
    "import pandas as pd\n",
    "from scipy.optimize import Bounds, linprog\n",
    "import sympy as sym\n",
    "import matplotlib.pyplot as plt\n",
    "from gurobipy import *"
   ]
  },
  {
   "cell_type": "code",
   "execution_count": 3,
   "id": "7b3aef90",
   "metadata": {},
   "outputs": [
    {
     "name": "stdout",
     "output_type": "stream",
     "text": [
      "a = 4\n",
      "b = 4\n",
      "c = 32\n"
     ]
    }
   ],
   "source": [
    "a = int(input('a = '))\n",
    "b = int(input('b = '))\n",
    "c = int(input('c = '))"
   ]
  },
  {
   "cell_type": "markdown",
   "id": "83dc0dbd",
   "metadata": {},
   "source": [
    "#### Находим оптимальный план производства"
   ]
  },
  {
   "cell_type": "markdown",
   "id": "e4b5a060",
   "metadata": {},
   "source": [
    "1. используя linprog"
   ]
  },
  {
   "cell_type": "code",
   "execution_count": 4,
   "id": "605ad0e1",
   "metadata": {},
   "outputs": [
    {
     "name": "stdout",
     "output_type": "stream",
     "text": [
      "Optimization terminated successfully.\n",
      "         Current function value: -33360.000000\n",
      "         Iterations: 2\n",
      "[  0. 520. 360.]\n"
     ]
    }
   ],
   "source": [
    "#Вводим границы\n",
    "\n",
    "bounds = np.array([(0, np.inf), (0, np.inf), (0, np.inf)])\n",
    "\n",
    "#Вводим ограничения\n",
    "\n",
    "#A_ub - матрица коэф. при x1,x2,x3 в ограничениях, A_ub @ x <= b_ub\n",
    "#c0 - коэффициенты перед переменными в целевой функции\n",
    "A_ub = np.array([[1, 3, a], [6, 5, 2]])\n",
    "b_ub = np.array([3000, 3320])\n",
    "c0 = np.array([6*b + 12, 5*b + 22, c])\n",
    "\n",
    "res = linprog(-c0, A_ub, b_ub, bounds=bounds, method='simplex', options={'disp': True})\n",
    "\n",
    "x1 = res.x[0]\n",
    "x2 = res.x[1]\n",
    "x3 = res.x[2]\n",
    "F_max = -res.fun\n",
    "print(res.x)"
   ]
  },
  {
   "cell_type": "code",
   "execution_count": 5,
   "id": "6756b83c",
   "metadata": {},
   "outputs": [
    {
     "name": "stdout",
     "output_type": "stream",
     "text": [
      "Оптимальные значения: x1 = 0.0, x2 = 520.0, x3 = 360.0\n",
      "Max значение функции: 33360.0\n"
     ]
    }
   ],
   "source": [
    "print(f'Оптимальные значения: x1 = {x1.round(3)}, x2 = {x2.round(3)}, x3 = {x3.round(3)}')\n",
    "print('Max значение функции:',F_max.round(3))"
   ]
  },
  {
   "cell_type": "code",
   "execution_count": 6,
   "id": "71044cc9",
   "metadata": {},
   "outputs": [
    {
     "data": {
      "text/plain": [
       "array([3000., 3320.])"
      ]
     },
     "execution_count": 6,
     "metadata": {},
     "output_type": "execute_result"
    }
   ],
   "source": [
    "b_opt = np.array([x1 + 3*x2 + a*x3, 6*x1 + 5*x2 + 2*x3]) # Реальный расход ресурсов\n",
    "b_opt"
   ]
  },
  {
   "cell_type": "code",
   "execution_count": 7,
   "id": "1b012a31",
   "metadata": {},
   "outputs": [
    {
     "data": {
      "text/plain": [
       "array([0., 0.])"
      ]
     },
     "execution_count": 7,
     "metadata": {},
     "output_type": "execute_result"
    }
   ],
   "source": [
    "#Дефицит (исчерпанность ресурсов)\n",
    "abs(b_ub-b_opt)"
   ]
  },
  {
   "cell_type": "markdown",
   "id": "c4ba28df",
   "metadata": {},
   "source": [
    "2. используя gurobi"
   ]
  },
  {
   "cell_type": "code",
   "execution_count": 8,
   "id": "ef06a556",
   "metadata": {},
   "outputs": [
    {
     "name": "stdout",
     "output_type": "stream",
     "text": [
      "Restricted license - for non-production use only - expires 2023-10-25\n",
      "Gurobi Optimizer version 9.5.1 build v9.5.1rc2 (win64)\n",
      "Thread count: 4 physical cores, 8 logical processors, using up to 8 threads\n",
      "Optimize a model with 2 rows, 3 columns and 6 nonzeros\n",
      "Model fingerprint: 0x92015beb\n",
      "Coefficient statistics:\n",
      "  Matrix range     [1e+00, 6e+00]\n",
      "  Objective range  [3e+01, 4e+01]\n",
      "  Bounds range     [0e+00, 0e+00]\n",
      "  RHS range        [3e+03, 3e+03]\n",
      "Presolve time: 0.00s\n",
      "Presolved: 2 rows, 3 columns, 6 nonzeros\n",
      "\n",
      "Iteration    Objective       Primal Inf.    Dual Inf.      Time\n",
      "       0    1.1000000e+32   3.625000e+30   1.100000e+02      0s\n",
      "       3    3.3360000e+04   0.000000e+00   0.000000e+00      0s\n",
      "\n",
      "Solved in 3 iterations and 0.01 seconds (0.00 work units)\n",
      "Optimal objective  3.336000000e+04\n"
     ]
    }
   ],
   "source": [
    "var_names = ['x1', 'x2', 'x3']                         \n",
    "profit = np.array([6*b + 12, 5*b + 22, c])                         # задаем цены\n",
    "res_used = np.array([[1, 3, a], [6, 5, 2]])  # задаем использование ресурсов\n",
    "res_avail = np.array([3000, 3320])                    # задаем запасы\n",
    "\n",
    "n = len(profit)                                    \n",
    "m = len(res_avail)                                 \n",
    "model = Model()\n",
    "x = model.addVars(n, name=var_names) # заводим переменные в модель\n",
    "obj = model.setObjective(quicksum(profit[j] * x[j] for j in range(n)), GRB.MAXIMIZE)\n",
    "con = []\n",
    "for i in range(m):\n",
    "    con.append(model.addConstr(quicksum(res_used[i, j] * x[j] for j in range(n)) <= res_avail[i], name=var_names[i]))\n",
    "model.optimize()"
   ]
  },
  {
   "cell_type": "code",
   "execution_count": 13,
   "id": "d17b567f",
   "metadata": {},
   "outputs": [
    {
     "name": "stdout",
     "output_type": "stream",
     "text": [
      "X = [0.0, 520.0, 360.0] \n",
      "Fmax = 33360.0 \n",
      "Оптимальный план двойственной задачи Pi → (y1,y2) = [5.428571428571429, 5.142857142857142]\n",
      "x1 = 0.0\n",
      "Pi1 = 5.428571428571429\n"
     ]
    }
   ],
   "source": [
    "# выводим параметры модели\n",
    "print(\"X =\", model.X, \"\\nFmax =\", model.ObjVal, \"\\nОптимальный план двойственной задачи Pi → (y1,y2) =\", model.Pi) \n",
    "print(\"x1 =\", x[0].X)\n",
    "print(\"Pi1 =\", con[0].Pi)"
   ]
  },
  {
   "cell_type": "code",
   "execution_count": 10,
   "id": "67b12bee",
   "metadata": {},
   "outputs": [
    {
     "name": "stdout",
     "output_type": "stream",
     "text": [
      "\n",
      "    Variable            X          Obj     SAObjLow      SAObjUp \n",
      "----------------------------------------------------------------\n",
      "          x1            0           36         -inf      36.2857 \n",
      "          x2          520           42      41.8182           80 \n",
      "          x3          360           32         16.8      32.3077 \n"
     ]
    }
   ],
   "source": [
    "# Оценка устойчивости коэффициентов целевой функции\n",
    "# Минимальные и максимальные значения коэффициентов\n",
    "# в целевой функции, сохраняющие оптимальность\n",
    "model.printAttr(['X', 'Obj', 'SAObjLow', 'SAObjUp'])"
   ]
  },
  {
   "cell_type": "code",
   "execution_count": 11,
   "id": "5b4750b3",
   "metadata": {},
   "outputs": [
    {
     "name": "stdout",
     "output_type": "stream",
     "text": [
      "Анализ чувствительности\n",
      "Fmax = 33360.0\n",
      "\n",
      "    Variable            X           RC           LB      SALBLow       SALBUp           UB      SAUBLow       SAUBUp \n",
      "--------------------------------------------------------------------------------------------------------------------\n",
      "          x1            0    -0.285714            0     -387.692      330.909          inf            0          inf \n",
      "          x2          520            0            0         -inf          520          inf          520          inf \n",
      "          x3          360            0            0         -inf          360          inf          360          inf \n",
      "\n",
      "  Constraint        Sense        Slack           Pi          RHS     SARHSLow      SARHSUp \n",
      "------------------------------------------------------------------------------------------\n",
      "          x1            <            0      5.42857         3000         1992         6640 \n",
      "          x2            <            0      5.14286         3320         1500         5000 \n"
     ]
    }
   ],
   "source": [
    "#Решение двойственной к M задачи\n",
    "print('Анализ чувствительности\\nFmax =', model.ObjVal)\n",
    "model.printAttr(['X', 'RC', 'LB', 'SALBLow', 'SALBUp', 'UB', 'SAUBLow', 'SAUBUp'])\n",
    "model.printAttr(['Sense', 'Slack', 'Pi', 'RHS', 'SARHSLow', 'SARHSUp'])"
   ]
  },
  {
   "cell_type": "code",
   "execution_count": null,
   "id": "d9b77ae3",
   "metadata": {},
   "outputs": [],
   "source": []
  }
 ],
 "metadata": {
  "kernelspec": {
   "display_name": "Python 3 (ipykernel)",
   "language": "python",
   "name": "python3"
  },
  "language_info": {
   "codemirror_mode": {
    "name": "ipython",
    "version": 3
   },
   "file_extension": ".py",
   "mimetype": "text/x-python",
   "name": "python",
   "nbconvert_exporter": "python",
   "pygments_lexer": "ipython3",
   "version": "3.9.7"
  }
 },
 "nbformat": 4,
 "nbformat_minor": 5
}
