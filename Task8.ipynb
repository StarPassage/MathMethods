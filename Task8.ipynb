{
 "cells": [
  {
   "cell_type": "markdown",
   "id": "6f58d114",
   "metadata": {},
   "source": [
    "<h3>Задание 8. Задача теории игр.</h3><br>\n",
    "Игра задана платежной матрицей A.<br>\n",
    "1. Составьте пару двойственных задач, соответствующую игрокам.<br>\n",
    "2. Найдите оптимальные стратегии игроков и цену игры.<br>\n",
    "3. Проверьте результаты вычислений на компьютере."
   ]
  },
  {
   "cell_type": "markdown",
   "id": "cb5bedc2",
   "metadata": {},
   "source": [
    "F(w<sub>1</sub>, w<sub>2</sub>,w<sub>3</sub>) = w<sub>1</sub> + w<sub>2</sub> + w<sub>3</sub> → max<br>\n",
    "*W = [w<sub>1</sub>, w<sub>2</sub>,w<sub>3</sub>]<br>*\n",
    "A<sub>1</sub> @ W <= 1,<br>\n",
    "A<sub>2</sub> @ W <= 1,<br>\n",
    "A<sub>3</sub> @ W <= 1,<br>\n",
    "w<sub>1</sub>, w<sub>2</sub>,w<sub>3</sub> >=0."
   ]
  },
  {
   "cell_type": "code",
   "execution_count": 1,
   "id": "3feb0a2c",
   "metadata": {},
   "outputs": [],
   "source": [
    "import numpy as np\n",
    "from gurobipy import *"
   ]
  },
  {
   "cell_type": "code",
   "execution_count": 2,
   "id": "fbf5186b",
   "metadata": {},
   "outputs": [
    {
     "name": "stdout",
     "output_type": "stream",
     "text": [
      "Введите 1 строку (числа через пробел)\n",
      "1 2 3\n",
      "Введите 2 строку (числа через пробел)\n",
      "5 3 4\n",
      "Введите 3 строку (числа через пробел)\n",
      "1 4 0\n"
     ]
    }
   ],
   "source": [
    "#Введите матрицу A размера 3x3\n",
    "A = np.array([list(map(int,input(f'Введите {i+1} строку (числа через пробел)\\n').split())) for i in range(3)])"
   ]
  },
  {
   "cell_type": "code",
   "execution_count": 3,
   "id": "be447fe1",
   "metadata": {},
   "outputs": [
    {
     "data": {
      "text/plain": [
       "array([[1, 2, 3],\n",
       "       [5, 3, 4],\n",
       "       [1, 4, 0]])"
      ]
     },
     "execution_count": 3,
     "metadata": {},
     "output_type": "execute_result"
    }
   ],
   "source": [
    "A"
   ]
  },
  {
   "cell_type": "code",
   "execution_count": 4,
   "id": "016ec849",
   "metadata": {},
   "outputs": [
    {
     "name": "stdout",
     "output_type": "stream",
     "text": [
      "Restricted license - for non-production use only - expires 2023-10-25\n",
      "Gurobi Optimizer version 9.5.1 build v9.5.1rc2 (win64)\n",
      "Thread count: 4 physical cores, 8 logical processors, using up to 8 threads\n",
      "Optimize a model with 3 rows, 3 columns and 8 nonzeros\n",
      "Model fingerprint: 0x29a0ade2\n",
      "Coefficient statistics:\n",
      "  Matrix range     [1e+00, 5e+00]\n",
      "  Objective range  [1e+00, 1e+00]\n",
      "  Bounds range     [0e+00, 0e+00]\n",
      "  RHS range        [1e+00, 1e+00]\n",
      "Presolve time: 0.01s\n",
      "Presolved: 3 rows, 3 columns, 8 nonzeros\n",
      "\n",
      "Iteration    Objective       Primal Inf.    Dual Inf.      Time\n",
      "       0    3.0000000e+30   4.250000e+30   3.000000e+00      0s\n",
      "       4    3.1250000e-01   0.000000e+00   0.000000e+00      0s\n",
      "\n",
      "Solved in 4 iterations and 0.02 seconds (0.00 work units)\n",
      "Optimal objective  3.125000000e-01\n"
     ]
    }
   ],
   "source": [
    "var_names = ['w1', 'w2', 'w3']                         \n",
    "profit = np.array([1, 1, 1])                        # Коэффициенты в целевой функции\n",
    "\n",
    "n = len(profit)                                    \n",
    "m = len(A)                                 \n",
    "model = Model(\"Matr-Game\")\n",
    "w = model.addVars(n, name=var_names) # заводим переменные в модель\n",
    "obj = model.setObjective(quicksum(profit[j] * w[j] for j in range(n)), GRB.MAXIMIZE)\n",
    "con = []\n",
    "for i in range(m):\n",
    "    con.append(model.addConstr(quicksum(A[i, j] * w[j] for j in range(n)) <= 1, name=var_names[i])) #добавляем ограничения\n",
    "model.optimize()"
   ]
  },
  {
   "cell_type": "code",
   "execution_count": 5,
   "id": "e5f10afd",
   "metadata": {},
   "outputs": [
    {
     "name": "stdout",
     "output_type": "stream",
     "text": [
      "Оптимальная стратегия W = [0.0, 0.25, 0.0625] \n",
      "Оптимальное значение целевой функции Fmax = 0.3125\n"
     ]
    }
   ],
   "source": [
    "# выводим параметры модели\n",
    "W = model.X\n",
    "print(\"Оптимальная стратегия W =\", model.X, \n",
    "      \"\\nОптимальное значение целевой функции Fmax =\", model.ObjVal) "
   ]
  },
  {
   "cell_type": "code",
   "execution_count": 6,
   "id": "1725d634",
   "metadata": {},
   "outputs": [
    {
     "name": "stdout",
     "output_type": "stream",
     "text": [
      "Заданные ограничения:\n",
      " [1.0, 1.0, 1.0]\n",
      "Реальный расход:\n",
      " [0.6875, 1.0, 1.0]\n",
      "Дефицит:\n",
      " [0.3125, 0.0, 0.0]\n"
     ]
    }
   ],
   "source": [
    "# Анализ оптимального решения\n",
    "# оценка выполнения ограничений\n",
    "print('Заданные ограничения:\\n',model.RHS)\n",
    "print('Реальный расход:\\n', [quicksum(A[i, j] * w[j] for j in range(n)).getValue() for i in range(m)])\n",
    "print('Дефицит:\\n',model.Slack)"
   ]
  },
  {
   "cell_type": "code",
   "execution_count": 7,
   "id": "7912b423",
   "metadata": {},
   "outputs": [
    {
     "name": "stdout",
     "output_type": "stream",
     "text": [
      "\n",
      "    Variable            X          Obj     SAObjLow      SAObjUp \n",
      "----------------------------------------------------------------\n",
      "          w1            0            1         -inf       1.3125 \n",
      "          w2         0.25            1         0.75          inf \n",
      "          w3       0.0625            1     0.705882      1.33333 \n"
     ]
    }
   ],
   "source": [
    "# Оценка устойчивости коэффициентов целевой функции\n",
    "# Минимальные и максимальные значения коэффициентов\n",
    "# в целевой функции, сохраняющие оптимальность\n",
    "model.printAttr(['X', 'Obj', 'SAObjLow', 'SAObjUp'])"
   ]
  },
  {
   "cell_type": "code",
   "execution_count": 8,
   "id": "a81ee38f",
   "metadata": {},
   "outputs": [
    {
     "data": {
      "text/plain": [
       "([0.0, 0.8, 0.2], 3.2)"
      ]
     },
     "execution_count": 8,
     "metadata": {},
     "output_type": "execute_result"
    }
   ],
   "source": [
    "#Оптимальные стратегии второго игрока и цена игры\n",
    "Y = [y/sum(W) for y in W]\n",
    "Nu_A = 1/sum(W)\n",
    "Y, Nu_A"
   ]
  },
  {
   "cell_type": "code",
   "execution_count": 9,
   "id": "57fa7d5a",
   "metadata": {},
   "outputs": [
    {
     "data": {
      "text/plain": [
       "[0.0, 0.25, 0.0625]"
      ]
     },
     "execution_count": 9,
     "metadata": {},
     "output_type": "execute_result"
    }
   ],
   "source": [
    "#Решение двойственной задачи (задачи для первого игрока)\n",
    "U = model.Pi\n",
    "U"
   ]
  },
  {
   "cell_type": "code",
   "execution_count": 10,
   "id": "10035a2b",
   "metadata": {},
   "outputs": [
    {
     "data": {
      "text/plain": [
       "[0.0, 0.8, 0.2]"
      ]
     },
     "execution_count": 10,
     "metadata": {},
     "output_type": "execute_result"
    }
   ],
   "source": [
    "#Оптимальные стратегии первого игрока\n",
    "X = [u/sum(U) for u in U]\n",
    "X"
   ]
  },
  {
   "cell_type": "code",
   "execution_count": 14,
   "id": "c11eafa4",
   "metadata": {},
   "outputs": [
    {
     "name": "stdout",
     "output_type": "stream",
     "text": [
      "Ответ\n",
      "\n",
      "X∗ = [0.0, 0.8, 0.2] – оптимальная стратегия I игрока,\n",
      "Y∗ = [0.0, 0.8, 0.2] – оптимальная стратегия II игрока,\n",
      "νA = 3.2 – цена игры.\n"
     ]
    }
   ],
   "source": [
    "print(f'Ответ\\n\\nX∗ = {X} – оптимальная стратегия I игрока,\\nY∗ = {Y} – оптимальная стратегия II игрока,\\nνA = {Nu_A} – цена игры.')"
   ]
  },
  {
   "cell_type": "code",
   "execution_count": null,
   "id": "ed2d9a95",
   "metadata": {},
   "outputs": [],
   "source": []
  }
 ],
 "metadata": {
  "kernelspec": {
   "display_name": "Python 3 (ipykernel)",
   "language": "python",
   "name": "python3"
  },
  "language_info": {
   "codemirror_mode": {
    "name": "ipython",
    "version": 3
   },
   "file_extension": ".py",
   "mimetype": "text/x-python",
   "name": "python",
   "nbconvert_exporter": "python",
   "pygments_lexer": "ipython3",
   "version": "3.9.7"
  }
 },
 "nbformat": 4,
 "nbformat_minor": 5
}
