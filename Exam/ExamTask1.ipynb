{
 "cells": [
  {
   "cell_type": "markdown",
   "id": "627ca24d",
   "metadata": {},
   "source": [
    "<h3>Задание 1</h3><br>"
   ]
  },
  {
   "cell_type": "markdown",
   "id": "006e4a4d",
   "metadata": {},
   "source": [
    "Исходный код взят из моего GitHub: https://github.com/StarPassage/MathMethods/blob/main/Task7.ipynb"
   ]
  },
  {
   "cell_type": "code",
   "execution_count": 2,
   "id": "55eda7aa",
   "metadata": {},
   "outputs": [],
   "source": [
    "import numpy as np\n",
    "import pandas as pd\n",
    "from scipy.optimize import Bounds, linprog\n",
    "np.set_printoptions(suppress=True)"
   ]
  },
  {
   "cell_type": "code",
   "execution_count": 11,
   "id": "6cfdb12c",
   "metadata": {
    "scrolled": true
   },
   "outputs": [
    {
     "name": "stdout",
     "output_type": "stream",
     "text": [
      "Введите 1 строку матрицы C (числа через пробел):\n",
      "5 7 9 7 0\n",
      "Введите 2 строку матрицы C (числа через пробел):\n",
      "10 14 13 23 0\n",
      "Введите 3 строку матрицы C (числа через пробел):\n",
      "11 18 12 14 0\n",
      "\n",
      "Матрица C:\n",
      "[[ 5  7  9  7  0]\n",
      " [10 14 13 23  0]\n",
      " [11 18 12 14  0]]\n"
     ]
    }
   ],
   "source": [
    "C = np.array([list(map(int, input(f'Введите {i+1} строку матрицы C (числа через пробел):\\n').split())) for i in range(3)])\n",
    "print('\\nМатрица C:')\n",
    "print(C)"
   ]
  },
  {
   "cell_type": "code",
   "execution_count": 4,
   "id": "4b5568ed",
   "metadata": {},
   "outputs": [
    {
     "name": "stdout",
     "output_type": "stream",
     "text": [
      "Введите через пробел числа a1, a2, a3:\n",
      "110 60 280\n"
     ]
    }
   ],
   "source": [
    "a1, a2, a3 = map(int, input('Введите через пробел числа a1, a2, a3:\\n').split())"
   ]
  },
  {
   "cell_type": "code",
   "execution_count": 5,
   "id": "d04bf1a9",
   "metadata": {},
   "outputs": [],
   "source": [
    "A = np.array([a1, a2, a3])"
   ]
  },
  {
   "cell_type": "code",
   "execution_count": 29,
   "id": "126ccc8b",
   "metadata": {},
   "outputs": [
    {
     "name": "stdout",
     "output_type": "stream",
     "text": [
      "Введите через пробел числа b1, b2, b3, b4, b5:\n",
      "130 30 100 160\n"
     ]
    }
   ],
   "source": [
    "b1, b2, b3, b4 = map(int, input('Введите через пробел числа b1, b2, b3, b4, b5:\\n').split())"
   ]
  },
  {
   "cell_type": "code",
   "execution_count": 30,
   "id": "f364a55a",
   "metadata": {},
   "outputs": [],
   "source": [
    "B = np.array([b1, b2, b3, b4])"
   ]
  },
  {
   "cell_type": "code",
   "execution_count": 31,
   "id": "27843ed2",
   "metadata": {},
   "outputs": [],
   "source": [
    "N = len(A)\n",
    "M = len(B)"
   ]
  },
  {
   "cell_type": "code",
   "execution_count": 32,
   "id": "0fbcdb41",
   "metadata": {},
   "outputs": [
    {
     "name": "stdout",
     "output_type": "stream",
     "text": [
      "Задача открытого типа\n"
     ]
    }
   ],
   "source": [
    "if sum(A) == sum(B):\n",
    "    print('Задача закрытого типа')\n",
    "else:\n",
    "    print('Задача открытого типа')"
   ]
  },
  {
   "cell_type": "code",
   "execution_count": 36,
   "id": "5f303ae4",
   "metadata": {},
   "outputs": [],
   "source": [
    "b5 = 30\n",
    "B = np.append(B, b5)"
   ]
  },
  {
   "cell_type": "code",
   "execution_count": 37,
   "id": "e0a9c5e6",
   "metadata": {},
   "outputs": [
    {
     "data": {
      "text/html": [
       "<div>\n",
       "<style scoped>\n",
       "    .dataframe tbody tr th:only-of-type {\n",
       "        vertical-align: middle;\n",
       "    }\n",
       "\n",
       "    .dataframe tbody tr th {\n",
       "        vertical-align: top;\n",
       "    }\n",
       "\n",
       "    .dataframe thead th {\n",
       "        text-align: right;\n",
       "    }\n",
       "</style>\n",
       "<table border=\"1\" class=\"dataframe\">\n",
       "  <thead>\n",
       "    <tr style=\"text-align: right;\">\n",
       "      <th>aᵢ \\ bⱼ</th>\n",
       "      <th>130</th>\n",
       "      <th>30</th>\n",
       "      <th>100</th>\n",
       "      <th>160</th>\n",
       "      <th>30</th>\n",
       "    </tr>\n",
       "  </thead>\n",
       "  <tbody>\n",
       "    <tr>\n",
       "      <th>110</th>\n",
       "      <td>5</td>\n",
       "      <td>7</td>\n",
       "      <td>9</td>\n",
       "      <td>7</td>\n",
       "      <td>0</td>\n",
       "    </tr>\n",
       "    <tr>\n",
       "      <th>60</th>\n",
       "      <td>10</td>\n",
       "      <td>14</td>\n",
       "      <td>13</td>\n",
       "      <td>23</td>\n",
       "      <td>0</td>\n",
       "    </tr>\n",
       "    <tr>\n",
       "      <th>280</th>\n",
       "      <td>11</td>\n",
       "      <td>18</td>\n",
       "      <td>12</td>\n",
       "      <td>14</td>\n",
       "      <td>0</td>\n",
       "    </tr>\n",
       "  </tbody>\n",
       "</table>\n",
       "</div>"
      ],
      "text/plain": [
       "aᵢ \\ bⱼ  130  30   100  160  30 \n",
       "110        5    7    9    7    0\n",
       "60        10   14   13   23    0\n",
       "280       11   18   12   14    0"
      ]
     },
     "execution_count": 37,
     "metadata": {},
     "output_type": "execute_result"
    }
   ],
   "source": [
    "df = pd.DataFrame(C, columns=B, index=A)\n",
    "df.columns.name = 'aᵢ \\\\ bⱼ'\n",
    "df"
   ]
  },
  {
   "cell_type": "markdown",
   "id": "42e27a16",
   "metadata": {},
   "source": [
    "Допустимый план перевозки груза методом минимальной стоимости"
   ]
  },
  {
   "cell_type": "code",
   "execution_count": 39,
   "id": "bc022b12",
   "metadata": {},
   "outputs": [
    {
     "name": "stdout",
     "output_type": "stream",
     "text": [
      "Полученный план перевозки груза:\n",
      " [[ 80   0   0   0  30]\n",
      " [ 50  10   0   0   0]\n",
      " [  0  20 100 160   0]]\n",
      "Значение целевой функции для этого опорного плана F = 4840\n"
     ]
    }
   ],
   "source": [
    "P = np.zeros_like(C)\n",
    "INF = 1_000_000_007\n",
    "C_ = C.copy()\n",
    "A_ = A.copy()\n",
    "B_ = B.copy()\n",
    "i = 0\n",
    "j = 0\n",
    "while not np.all(C_ == INF):\n",
    "    i, j = np.unravel_index(C_.argmin(), C_.shape)\n",
    "    P[i][j] = min(A_[i], B_[j])\n",
    "    if A_[i] <= B_[j]:\n",
    "        C_[i].fill(INF)\n",
    "        B_[j] -= A_[i]\n",
    "        A_[i] = 0\n",
    "    else:\n",
    "        C_[:, j].fill(INF)\n",
    "        A_[i] -= B_[j]\n",
    "        B_[j] = 0    \n",
    "\n",
    "F = 0\n",
    "for i in range(N):\n",
    "    for j in range(M):\n",
    "        F += C[i][j] * P[i][j]\n",
    "print('Полученный план перевозки груза:\\n', P)\n",
    "print('Значение целевой функции для этого опорного плана F =', F)"
   ]
  },
  {
   "cell_type": "code",
   "execution_count": null,
   "id": "222b4ca1",
   "metadata": {},
   "outputs": [],
   "source": []
  }
 ],
 "metadata": {
  "kernelspec": {
   "display_name": "Python 3 (ipykernel)",
   "language": "python",
   "name": "python3"
  },
  "language_info": {
   "codemirror_mode": {
    "name": "ipython",
    "version": 3
   },
   "file_extension": ".py",
   "mimetype": "text/x-python",
   "name": "python",
   "nbconvert_exporter": "python",
   "pygments_lexer": "ipython3",
   "version": "3.9.7"
  }
 },
 "nbformat": 4,
 "nbformat_minor": 5
}
