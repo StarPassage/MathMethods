{
 "cells": [
  {
   "cell_type": "markdown",
   "id": "6f58d114",
   "metadata": {},
   "source": [
    "<h3>Задание 2</h3><br>\n",
    "Исходный код: <a>https://github.com/StarPassage/MathMethods/blob/main/Task8.ipynb</a>"
   ]
  },
  {
   "cell_type": "code",
   "execution_count": 1,
   "id": "3feb0a2c",
   "metadata": {},
   "outputs": [],
   "source": [
    "import numpy as np\n",
    "from gurobipy import *"
   ]
  },
  {
   "cell_type": "code",
   "execution_count": 13,
   "id": "fbf5186b",
   "metadata": {},
   "outputs": [
    {
     "name": "stdout",
     "output_type": "stream",
     "text": [
      "Введите 1 строку (числа через пробел)\n",
      "4 5\n",
      "Введите 2 строку (числа через пробел)\n",
      "8 2\n"
     ]
    }
   ],
   "source": [
    "#Введите матрицу A размера 3x3\n",
    "A = np.array([list(map(int,input(f'Введите {i+1} строку (числа через пробел)\\n').split())) for i in range(2)])"
   ]
  },
  {
   "cell_type": "code",
   "execution_count": 14,
   "id": "be447fe1",
   "metadata": {},
   "outputs": [
    {
     "data": {
      "text/plain": [
       "array([[4, 5],\n",
       "       [8, 2]])"
      ]
     },
     "execution_count": 14,
     "metadata": {},
     "output_type": "execute_result"
    }
   ],
   "source": [
    "A"
   ]
  },
  {
   "cell_type": "code",
   "execution_count": 15,
   "id": "016ec849",
   "metadata": {},
   "outputs": [
    {
     "name": "stdout",
     "output_type": "stream",
     "text": [
      "Gurobi Optimizer version 9.5.1 build v9.5.1rc2 (win64)\n",
      "Thread count: 4 physical cores, 8 logical processors, using up to 8 threads\n",
      "Optimize a model with 2 rows, 2 columns and 4 nonzeros\n",
      "Model fingerprint: 0xbf27479a\n",
      "Coefficient statistics:\n",
      "  Matrix range     [2e+00, 8e+00]\n",
      "  Objective range  [1e+00, 1e+00]\n",
      "  Bounds range     [0e+00, 0e+00]\n",
      "  RHS range        [1e+00, 1e+00]\n",
      "Presolve time: 0.00s\n",
      "Presolved: 2 rows, 2 columns, 4 nonzeros\n",
      "\n",
      "Iteration    Objective       Primal Inf.    Dual Inf.      Time\n",
      "       0    2.0000000e+30   2.375000e+30   2.000000e+00      0s\n",
      "       2    2.1875000e-01   0.000000e+00   0.000000e+00      0s\n",
      "\n",
      "Solved in 2 iterations and 0.01 seconds (0.00 work units)\n",
      "Optimal objective  2.187500000e-01\n"
     ]
    }
   ],
   "source": [
    "var_names = ['w1', 'w2']                         \n",
    "profit = np.array([1, 1])                        # Коэффициенты в целевой функции\n",
    "\n",
    "n = len(profit)                                    \n",
    "m = len(A)                                 \n",
    "model = Model(\"Matr-Game\")\n",
    "w = model.addVars(n, name=var_names) # заводим переменные в модель\n",
    "obj = model.setObjective(quicksum(profit[j] * w[j] for j in range(n)), GRB.MAXIMIZE)\n",
    "con = []\n",
    "for i in range(m):\n",
    "    con.append(model.addConstr(quicksum(A[i, j] * w[j] for j in range(n)) <= 1, name=var_names[i])) #добавляем ограничения\n",
    "model.optimize()"
   ]
  },
  {
   "cell_type": "code",
   "execution_count": 16,
   "id": "e5f10afd",
   "metadata": {},
   "outputs": [
    {
     "name": "stdout",
     "output_type": "stream",
     "text": [
      "Оптимальная стратегия W = [0.09375, 0.125] \n",
      "Оптимальное значение целевой функции Fmax = 0.21875\n"
     ]
    }
   ],
   "source": [
    "# выводим параметры модели\n",
    "W = model.X\n",
    "print(\"Оптимальная стратегия W =\", model.X, \n",
    "      \"\\nОптимальное значение целевой функции Fmax =\", model.ObjVal) "
   ]
  },
  {
   "cell_type": "code",
   "execution_count": 17,
   "id": "1725d634",
   "metadata": {},
   "outputs": [
    {
     "name": "stdout",
     "output_type": "stream",
     "text": [
      "Заданные ограничения:\n",
      " [1.0, 1.0]\n",
      "Реальный расход:\n",
      " [1.0, 1.0]\n",
      "Дефицит:\n",
      " [0.0, 0.0]\n"
     ]
    }
   ],
   "source": [
    "# Анализ оптимального решения\n",
    "# оценка выполнения ограничений\n",
    "print('Заданные ограничения:\\n',model.RHS)\n",
    "print('Реальный расход:\\n', [quicksum(A[i, j] * w[j] for j in range(n)).getValue() for i in range(m)])\n",
    "print('Дефицит:\\n',model.Slack)"
   ]
  },
  {
   "cell_type": "code",
   "execution_count": 18,
   "id": "7912b423",
   "metadata": {},
   "outputs": [
    {
     "name": "stdout",
     "output_type": "stream",
     "text": [
      "\n",
      "    Variable            X          Obj     SAObjLow      SAObjUp \n",
      "----------------------------------------------------------------\n",
      "          w1      0.09375            1          0.8            4 \n",
      "          w2        0.125            1         0.25         1.25 \n"
     ]
    }
   ],
   "source": [
    "# Оценка устойчивости коэффициентов целевой функции\n",
    "# Минимальные и максимальные значения коэффициентов\n",
    "# в целевой функции, сохраняющие оптимальность\n",
    "model.printAttr(['X', 'Obj', 'SAObjLow', 'SAObjUp'])"
   ]
  },
  {
   "cell_type": "code",
   "execution_count": 19,
   "id": "a81ee38f",
   "metadata": {},
   "outputs": [
    {
     "data": {
      "text/plain": [
       "([0.42857142857142855, 0.5714285714285714], 4.571428571428571)"
      ]
     },
     "execution_count": 19,
     "metadata": {},
     "output_type": "execute_result"
    }
   ],
   "source": [
    "#Оптимальные стратегии второго игрока и цена игры\n",
    "Y = [y/sum(W) for y in W]\n",
    "Nu_A = 1/sum(W)\n",
    "Y, Nu_A"
   ]
  },
  {
   "cell_type": "code",
   "execution_count": 20,
   "id": "57fa7d5a",
   "metadata": {},
   "outputs": [
    {
     "data": {
      "text/plain": [
       "[0.1875, 0.03125]"
      ]
     },
     "execution_count": 20,
     "metadata": {},
     "output_type": "execute_result"
    }
   ],
   "source": [
    "#Решение двойственной задачи (задачи для первого игрока)\n",
    "U = model.Pi\n",
    "U"
   ]
  },
  {
   "cell_type": "code",
   "execution_count": 21,
   "id": "10035a2b",
   "metadata": {},
   "outputs": [
    {
     "data": {
      "text/plain": [
       "[0.8571428571428571, 0.14285714285714285]"
      ]
     },
     "execution_count": 21,
     "metadata": {},
     "output_type": "execute_result"
    }
   ],
   "source": [
    "#Оптимальные стратегии первого игрока\n",
    "X = [u/sum(U) for u in U]\n",
    "X"
   ]
  },
  {
   "cell_type": "code",
   "execution_count": 22,
   "id": "c11eafa4",
   "metadata": {},
   "outputs": [
    {
     "name": "stdout",
     "output_type": "stream",
     "text": [
      "Ответ\n",
      "\n",
      "X∗ = [0.8571428571428571, 0.14285714285714285] – оптимальная стратегия I игрока,\n",
      "Y∗ = [0.42857142857142855, 0.5714285714285714] – оптимальная стратегия II игрока,\n",
      "νA = 4.571428571428571 – цена игры.\n"
     ]
    }
   ],
   "source": [
    "print(f'Ответ\\n\\nX∗ = {X} – оптимальная стратегия I игрока,\\nY∗ = {Y} – оптимальная стратегия II игрока,\\nνA = {Nu_A} – цена игры.')"
   ]
  },
  {
   "cell_type": "code",
   "execution_count": null,
   "id": "ed2d9a95",
   "metadata": {},
   "outputs": [],
   "source": []
  }
 ],
 "metadata": {
  "kernelspec": {
   "display_name": "Python 3 (ipykernel)",
   "language": "python",
   "name": "python3"
  },
  "language_info": {
   "codemirror_mode": {
    "name": "ipython",
    "version": 3
   },
   "file_extension": ".py",
   "mimetype": "text/x-python",
   "name": "python",
   "nbconvert_exporter": "python",
   "pygments_lexer": "ipython3",
   "version": "3.9.7"
  }
 },
 "nbformat": 4,
 "nbformat_minor": 5
}
