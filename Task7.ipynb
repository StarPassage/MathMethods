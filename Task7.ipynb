{
 "cells": [
  {
   "cell_type": "markdown",
   "id": "627ca24d",
   "metadata": {},
   "source": [
    "<h3>Задание 7. Транспортная задача</h3><br>\n",
    "Дана транспортная задача: A<sub>1</sub>, A<sub>2</sub>, A<sub>3</sub> – поставщики с запасами a<sub>1</sub>, a<sub>2</sub>, a<sub>3</sub> однородного груза,<br>\n",
    "B<sub>1</sub>, B<sub>2</sub>, B<sub>3</sub>, B<sub>4</sub>, B<sub>5</sub> – потребители с потребностями b<sub>1</sub>, b<sub>2</sub>, b<sub>3</sub>, b<sub>4</sub>, b<sub>5</sub>.<br>\n",
    "Матрица тарифов C = (c<sub>ij</sub>), где i = 1, 2, 3 и j = 1, 2, 3, 4, 5, содержит стоимости перевозки единицы груза\n",
    "из пункта A<sub>i</sub> в пункт B<sub>j</sub>.<br>\n",
    "Требуется найти минимальный по стоимости план перевозки груза от поставщиков\n",
    "к потребителям такой, чтобы был вывезен весь груз и все потребности были удовлетворены.<br>\n",
    "1. Убедитесь, что транспортная задача закрытого типа.<br>\n",
    "2. Найдите какой-либо допустимый план перевозки груза (можно использовать методы северо-западного угла, минимальной стоимости или Фогеля).<br>\n",
    "3. Найдите оптимальный план перевозки груза (план минимальной стоимости) методом потенциалов.<br>\n",
    "4. Проверьте результаты вычислений на компьютере."
   ]
  },
  {
   "cell_type": "code",
   "execution_count": 53,
   "id": "55eda7aa",
   "metadata": {},
   "outputs": [],
   "source": [
    "import numpy as np\n",
    "import pandas as pd\n",
    "from scipy.optimize import Bounds, linprog\n",
    "np.set_printoptions(suppress=True)"
   ]
  },
  {
   "cell_type": "code",
   "execution_count": 54,
   "id": "6cfdb12c",
   "metadata": {
    "scrolled": true
   },
   "outputs": [
    {
     "name": "stdout",
     "output_type": "stream",
     "text": [
      "Введите 1 строку матрицы C (числа через пробел):\n",
      "16 7 13 10 22\n",
      "Введите 2 строку матрицы C (числа через пробел):\n",
      "6 15 12 9 4\n",
      "Введите 3 строку матрицы C (числа через пробел):\n",
      "14 11 5 17 8\n",
      "\n",
      "Матрица C:\n",
      "[[16  7 13 10 22]\n",
      " [ 6 15 12  9  4]\n",
      " [14 11  5 17  8]]\n"
     ]
    }
   ],
   "source": [
    "C = np.array([list(map(int, input(f'Введите {i+1} строку матрицы C (числа через пробел):\\n').split())) for i in range(3)])\n",
    "print('\\nМатрица C:')\n",
    "print(C)"
   ]
  },
  {
   "cell_type": "code",
   "execution_count": 55,
   "id": "4b5568ed",
   "metadata": {},
   "outputs": [
    {
     "name": "stdout",
     "output_type": "stream",
     "text": [
      "Введите через пробел числа a1, a2, a3:\n",
      "280 370 240\n"
     ]
    }
   ],
   "source": [
    "a1, a2, a3 = map(int, input('Введите через пробел числа a1, a2, a3:\\n').split())"
   ]
  },
  {
   "cell_type": "code",
   "execution_count": 56,
   "id": "d04bf1a9",
   "metadata": {},
   "outputs": [],
   "source": [
    "A = np.array([a1, a2, a3])"
   ]
  },
  {
   "cell_type": "code",
   "execution_count": 57,
   "id": "126ccc8b",
   "metadata": {},
   "outputs": [
    {
     "name": "stdout",
     "output_type": "stream",
     "text": [
      "Введите через пробел числа b1, b2, b3, b4, b5:\n",
      "150 120 210 260 150\n"
     ]
    }
   ],
   "source": [
    "b1, b2, b3, b4, b5 = map(int, input('Введите через пробел числа b1, b2, b3, b4, b5:\\n').split())"
   ]
  },
  {
   "cell_type": "code",
   "execution_count": 58,
   "id": "f364a55a",
   "metadata": {},
   "outputs": [],
   "source": [
    "B = np.array([b1, b2, b3, b4, b5])"
   ]
  },
  {
   "cell_type": "code",
   "execution_count": 59,
   "id": "27843ed2",
   "metadata": {},
   "outputs": [],
   "source": [
    "N = len(A)\n",
    "M = len(B)"
   ]
  },
  {
   "cell_type": "code",
   "execution_count": 60,
   "id": "e0a9c5e6",
   "metadata": {},
   "outputs": [
    {
     "data": {
      "text/html": [
       "<div>\n",
       "<style scoped>\n",
       "    .dataframe tbody tr th:only-of-type {\n",
       "        vertical-align: middle;\n",
       "    }\n",
       "\n",
       "    .dataframe tbody tr th {\n",
       "        vertical-align: top;\n",
       "    }\n",
       "\n",
       "    .dataframe thead th {\n",
       "        text-align: right;\n",
       "    }\n",
       "</style>\n",
       "<table border=\"1\" class=\"dataframe\">\n",
       "  <thead>\n",
       "    <tr style=\"text-align: right;\">\n",
       "      <th>aᵢ \\ bⱼ</th>\n",
       "      <th>150</th>\n",
       "      <th>120</th>\n",
       "      <th>210</th>\n",
       "      <th>260</th>\n",
       "      <th>150</th>\n",
       "    </tr>\n",
       "  </thead>\n",
       "  <tbody>\n",
       "    <tr>\n",
       "      <th>280</th>\n",
       "      <td>16</td>\n",
       "      <td>7</td>\n",
       "      <td>13</td>\n",
       "      <td>10</td>\n",
       "      <td>22</td>\n",
       "    </tr>\n",
       "    <tr>\n",
       "      <th>370</th>\n",
       "      <td>6</td>\n",
       "      <td>15</td>\n",
       "      <td>12</td>\n",
       "      <td>9</td>\n",
       "      <td>4</td>\n",
       "    </tr>\n",
       "    <tr>\n",
       "      <th>240</th>\n",
       "      <td>14</td>\n",
       "      <td>11</td>\n",
       "      <td>5</td>\n",
       "      <td>17</td>\n",
       "      <td>8</td>\n",
       "    </tr>\n",
       "  </tbody>\n",
       "</table>\n",
       "</div>"
      ],
      "text/plain": [
       "aᵢ \\ bⱼ  150  120  210  260  150\n",
       "280       16    7   13   10   22\n",
       "370        6   15   12    9    4\n",
       "240       14   11    5   17    8"
      ]
     },
     "execution_count": 60,
     "metadata": {},
     "output_type": "execute_result"
    }
   ],
   "source": [
    "df = pd.DataFrame(C, columns=B, index=A)\n",
    "df.columns.name = 'aᵢ \\\\ bⱼ'\n",
    "df"
   ]
  },
  {
   "cell_type": "code",
   "execution_count": 61,
   "id": "0fbcdb41",
   "metadata": {},
   "outputs": [
    {
     "name": "stdout",
     "output_type": "stream",
     "text": [
      "Задача закрытого типа\n"
     ]
    }
   ],
   "source": [
    "if sum(A) == sum(B):\n",
    "    print('Задача закрытого типа')\n",
    "else:\n",
    "    print('Задача открытого типа')"
   ]
  },
  {
   "cell_type": "markdown",
   "id": "42e27a16",
   "metadata": {},
   "source": [
    "Допустимый план перевозки груза методом минимальной стоимости"
   ]
  },
  {
   "cell_type": "code",
   "execution_count": 101,
   "id": "bc022b12",
   "metadata": {},
   "outputs": [
    {
     "name": "stdout",
     "output_type": "stream",
     "text": [
      "Опорный план является невырожденным\n",
      "Полученный план перевозки груза:\n",
      " [[  0 120   0 160   0]\n",
      " [150   0   0  70 150]\n",
      " [  0   0 210  30   0]]\n",
      "Значение целевой функции для этого опорного плана F = 6130\n"
     ]
    }
   ],
   "source": [
    "P = np.zeros_like(C)\n",
    "INF = 1_000_000_007\n",
    "C_ = C.copy()\n",
    "A_ = A.copy()\n",
    "B_ = B.copy()\n",
    "i = 0\n",
    "j = 0\n",
    "while not np.all(C_ == INF):\n",
    "    i, j = np.unravel_index(C_.argmin(), C_.shape)\n",
    "    P[i][j] = min(A_[i], B_[j])\n",
    "    if A_[i] <= B_[j]:\n",
    "        C_[i].fill(INF)\n",
    "        B_[j] -= A_[i]\n",
    "        A_[i] = 0\n",
    "    else:\n",
    "        C_[:, j].fill(INF)\n",
    "        A_[i] -= B_[j]\n",
    "        B_[j] = 0    \n",
    "if np.count_nonzero(P) == N + M - 1:\n",
    "    print('Опорный план является невырожденным')\n",
    "else:\n",
    "    print('Опорный план является вырожденным')\n",
    "\n",
    "F = 0\n",
    "for i in range(N):\n",
    "    for j in range(M):\n",
    "        F += C[i][j] * P[i][j]\n",
    "print('Полученный план перевозки груза:\\n', P)\n",
    "print('Значение целевой функции для этого опорного плана F =', F)"
   ]
  },
  {
   "cell_type": "markdown",
   "id": "093a5414",
   "metadata": {},
   "source": [
    "Оптимальный план перевозки груза"
   ]
  },
  {
   "cell_type": "code",
   "execution_count": 63,
   "id": "69e4099b",
   "metadata": {},
   "outputs": [
    {
     "name": "stdout",
     "output_type": "stream",
     "text": [
      "Primal Feasibility  Dual Feasibility    Duality Gap         Step             Path Parameter      Objective          \n",
      "1.0                 1.0                 1.0                 -                1.0                 169.0               \n",
      "0.1202059322604     0.1202059322604     0.1202059322603     0.8901452841057  0.1202059322604     1147.263137699      \n",
      "0.03997616213494    0.03997616213494    0.03997616213489    0.6858931492159  0.03997616213493    2081.479451867      \n",
      "0.01285243958581    0.01285243958581    0.01285243958579    0.6841818430431  0.0128524395858     3484.251347368      \n",
      "0.003264438710608   0.003264438710608   0.003264438710605   0.7766349401104  0.003264438710609   5111.196703651      \n",
      "0.000209819860793   0.0002098198607929  0.000209819860792   0.9746110433056  0.000209819860794   5940.84892623       \n",
      "3.095662218527e-08  3.095662222195e-08  3.095662154853e-08  0.9998527379678  3.095662419011e-08  6009.989746303      \n",
      "1.602107148119e-12  1.602105100264e-12  1.602482852297e-12  0.9999482470081  1.593066298149e-12  6009.999999469      \n",
      "Optimization terminated successfully.\n",
      "         Current function value: 6009.999999 \n",
      "         Iterations: 7\n"
     ]
    },
    {
     "name": "stderr",
     "output_type": "stream",
     "text": [
      "C:\\Users\\davem\\AppData\\Local\\Temp/ipykernel_30772/3296677646.py:11: OptimizeWarning: Solving system with option 'cholesky':True failed. It is normal for this to happen occasionally, especially as the solution is approached. However, if you see this frequently, consider setting option 'cholesky' to False.\n",
      "  res = linprog(C.flatten(), A_ub, b_ub, A_eq, b_eq, options={'disp': True})\n",
      "C:\\Users\\davem\\AppData\\Local\\Temp/ipykernel_30772/3296677646.py:11: OptimizeWarning: Solving system with option 'sym_pos':True failed. It is normal for this to happen occasionally, especially as the solution is approached. However, if you see this frequently, consider setting option 'sym_pos' to False.\n",
      "  res = linprog(C.flatten(), A_ub, b_ub, A_eq, b_eq, options={'disp': True})\n"
     ]
    }
   ],
   "source": [
    "#A_ub - матрица коэф. при x1,x2,...,xn в ограничениях, A_ub @ x <= b_ub (E @ x <= A)\n",
    "#c0 - коэффициенты перед переменными в целевой функции\n",
    "A_ub = np.array([[1 if i in range(j*M, M*(j+1)) else 0 for i in range(N*M)] for j in range(N)])\n",
    "b_ub = A\n",
    "\n",
    "#A_ub - матрица коэф. при x1,x2,...,xn в ограничениях, A_eq @ x = b_eq (E @ x = B)\n",
    "#c0 - коэффициенты перед переменными в целевой функции\n",
    "b_eq = B\n",
    "A_eq = np.array([[1 if i % M == j else 0 for i in range(N*M)] for j in range(M)])\n",
    "\n",
    "res = linprog(C.flatten(), A_ub, b_ub, A_eq, b_eq, options={'disp': True})\n",
    "\n",
    "X = res.x.round(3).reshape(N, M)\n",
    "F_min = res.fun.round(3)"
   ]
  },
  {
   "cell_type": "code",
   "execution_count": 64,
   "id": "80e6e85a",
   "metadata": {},
   "outputs": [
    {
     "name": "stdout",
     "output_type": "stream",
     "text": [
      "Оптимальный план перевозки груза X*:\n",
      " [[  0. 120.   0. 160.   0.]\n",
      " [150.   0.   0. 100. 120.]\n",
      " [  0.   0. 210.   0.  30.]]\n",
      "Оптимальная стоимость перевозки:\n",
      "F_min = F(X*) = 6010.0\n"
     ]
    }
   ],
   "source": [
    "print('Оптимальный план перевозки груза X*:\\n', X)\n",
    "print('Оптимальная стоимость перевозки:\\nF_min = F(X*) =', F_min)"
   ]
  }
 ],
 "metadata": {
  "kernelspec": {
   "display_name": "Python 3 (ipykernel)",
   "language": "python",
   "name": "python3"
  },
  "language_info": {
   "codemirror_mode": {
    "name": "ipython",
    "version": 3
   },
   "file_extension": ".py",
   "mimetype": "text/x-python",
   "name": "python",
   "nbconvert_exporter": "python",
   "pygments_lexer": "ipython3",
   "version": "3.9.7"
  }
 },
 "nbformat": 4,
 "nbformat_minor": 5
}
